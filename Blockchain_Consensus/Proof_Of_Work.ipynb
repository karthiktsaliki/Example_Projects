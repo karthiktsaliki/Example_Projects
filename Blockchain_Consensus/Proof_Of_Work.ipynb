{
 "cells": [
  {
   "cell_type": "code",
   "execution_count": 3,
   "metadata": {
    "collapsed": true
   },
   "outputs": [],
   "source": [
    "import sys\n",
    "import time\n",
    "import hashlib\n",
    "from struct import pack,unpack"
   ]
  },
  {
   "cell_type": "code",
   "execution_count": 12,
   "metadata": {
    "collapsed": true
   },
   "outputs": [],
   "source": [
    "timestamp=str(time.time())\n",
    "message=\"This is a random message\"\n",
    "payload=timestamp+message\n",
    "payload=payload.encode('utf-8')"
   ]
  },
  {
   "cell_type": "code",
   "execution_count": 17,
   "metadata": {
    "collapsed": true
   },
   "outputs": [],
   "source": [
    "nonce = 0\n",
    "guess = 999999999999\n",
    "throttle = 100000000\n",
    "target = 2**64/ throttle"
   ]
  },
  {
   "cell_type": "code",
   "execution_count": 18,
   "metadata": {
    "collapsed": true
   },
   "outputs": [],
   "source": [
    "payloadHash = hashlib.sha512(payload).digest()\n",
    "start=time.time()"
   ]
  },
  {
   "cell_type": "code",
   "execution_count": null,
   "metadata": {},
   "outputs": [],
   "source": [
    "while guess > target:\n",
    "    nonce+1\n",
    "    guess, = unpack('>Q', hashlib.sha512(hashlib.sha512(pack('>Q', nonce) +payloadHash).digest()).digest()[0:8])\n",
    "end=time.time()\n",
    "print(timestamp,message,nonce,guess,payload,end-start)"
   ]
  },
  {
   "cell_type": "code",
   "execution_count": null,
   "metadata": {
    "collapsed": true
   },
   "outputs": [],
   "source": []
  }
 ],
 "metadata": {
  "kernelspec": {
   "display_name": "Python 3",
   "language": "python",
   "name": "python3"
  },
  "language_info": {
   "codemirror_mode": {
    "name": "ipython",
    "version": 3
   },
   "file_extension": ".py",
   "mimetype": "text/x-python",
   "name": "python",
   "nbconvert_exporter": "python",
   "pygments_lexer": "ipython3",
   "version": "3.6.1"
  }
 },
 "nbformat": 4,
 "nbformat_minor": 2
}
